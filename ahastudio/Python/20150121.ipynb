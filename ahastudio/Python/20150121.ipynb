{
 "metadata": {
  "name": "",
  "signature": "sha256:3a9893649691abe108b8fd033a0d772e39e95ea67e88e253d19764f92ec84661"
 },
 "nbformat": 3,
 "nbformat_minor": 0,
 "worksheets": [
  {
   "cells": [
    {
     "cell_type": "markdown",
     "metadata": {},
     "source": [
      "M&M \ubb38\uc81c\n",
      "=======\n",
      "\n",
      "\u201c\ud30c\uc774\uc36c\uc744 \ud65c\uc6a9\ud55c \ubca0\uc774\uc9c0\uc548 \ud1b5\uacc4\u201d 25\ud398\uc774\uc9c0"
     ]
    },
    {
     "cell_type": "code",
     "collapsed": false,
     "input": [
      "from thinkbayes import Pmf\n",
      "\n",
      "pmf = Pmf()\n",
      "\n",
      "pmf.Set('Y-1994 G-1996', 0.5)\n",
      "pmf.Set('Y-1996 G-1994', 0.5)\n",
      "\n",
      "pmf.Mult('Y-1994 G-1996', 0.20 * 0.20)\n",
      "pmf.Mult('Y-1996 G-1994', 0.14 * 0.10)\n",
      "\n",
      "pmf.Normalize()\n",
      "\n",
      "pmf.Prob('Y-1994 G-1996'), pmf.Prob('Y-1996 G-1994')"
     ],
     "language": "python",
     "metadata": {},
     "outputs": [
      {
       "metadata": {},
       "output_type": "pyout",
       "prompt_number": 1,
       "text": [
        "(0.7407407407407408, 0.25925925925925924)"
       ]
      }
     ],
     "prompt_number": 1
    },
    {
     "cell_type": "markdown",
     "metadata": {},
     "source": [
      "\ud761\uc5f0\uc790 \ubb38\uc81c\n",
      "========\n",
      "\n",
      "- \ud761\uc5f0\uc790 \ube44\uc728: y\n",
      "- \ube44\ud761\uc5f0\uc790 \ube44\uc728: 1 - y\n",
      "- \ube44\ud761\uc5f0\uc790\uc758 \ud3d0\uc554 \ube44\uc728: x\n",
      "- \ud761\uc5f0\uc790\uac00 \ube44\ud761\uc5f0\uc790\ubcf4\ub2e4 \ubc1c\uc554\ub960 4\ubc30\n",
      "\n",
      "\ud658\uc790\uac00 \ud3d0\uc554\uc5d0 \uac78\ub838\uc744 \ub54c \ud761\uc5f0\uc790\uc77c \ud655\ub960\uc740?"
     ]
    },
    {
     "cell_type": "markdown",
     "metadata": {},
     "source": [
      "\ub2e4\uc6b4\uc99d\ud6c4\uad70 \ubb38\uc81c\n",
      "===========\n",
      "\n",
      "- \ub2e4\uc6b4\uc99d\ud6c4\uad70 1% = \uc591\uc131 90% + \uc74c\uc131 10%\n",
      "- \uc815\uc0c1 99% = \uc591\uc131 5% + \uc74c\uc131 95%\n",
      "\n",
      "\uc591\uc131 \ubc18\uc751\uc774 \ub098\uc654\uc744 \ub54c \ub2e4\uc6b4\uc99d\ud6c4\uad70\uc77c \ud655\ub960\uc740? P(\ub2e4\uc6b4\uc99d\ud6c4\uad70|\uc591\uc131)"
     ]
    },
    {
     "cell_type": "code",
     "collapsed": false,
     "input": [
      "from thinkbayes import Pmf\n",
      "\n",
      "pmf = Pmf()\n",
      "\n",
      "# \uac00\uc124\n",
      "pmf.Set('\ub2e4\uc6b4\uc99d\ud6c4\uad70', 0.01)\n",
      "pmf.Set('\uc815\uc0c1', 0.99)\n",
      "\n",
      "# \uc591\uc131|\uac00\uc124\n",
      "pmf.Mult('\ub2e4\uc6b4\uc99d\ud6c4\uad70', 0.90)\n",
      "pmf.Mult('\uc815\uc0c1', 0.05)\n",
      "\n",
      "pmf.Normalize()\n",
      "\n",
      "# \ub2e4\uc6b4\uc99d\ud6c4\uad70|\uc591\uc131\n",
      "pmf.Prob('\ub2e4\uc6b4\uc99d\ud6c4\uad70')"
     ],
     "language": "python",
     "metadata": {},
     "outputs": [
      {
       "metadata": {},
       "output_type": "pyout",
       "prompt_number": 2,
       "text": [
        "0.15384615384615385"
       ]
      }
     ],
     "prompt_number": 2
    }
   ],
   "metadata": {}
  }
 ]
}