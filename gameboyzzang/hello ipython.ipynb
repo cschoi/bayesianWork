{
 "metadata": {
  "name": "",
  "signature": "sha256:a9c10d8442a7fa8ee8f086bea86c2522d020c610a96032491a1131a6e73275b9"
 },
 "nbformat": 3,
 "nbformat_minor": 0,
 "worksheets": [
  {
   "cells": [
    {
     "cell_type": "code",
     "collapsed": false,
     "input": [
      "print 'hello, Ipython Notebook!'"
     ],
     "language": "python",
     "metadata": {},
     "outputs": [
      {
       "output_type": "stream",
       "stream": "stdout",
       "text": [
        "hello, Ipython Notebook!\n"
       ]
      }
     ],
     "prompt_number": 1
    },
    {
     "cell_type": "code",
     "collapsed": false,
     "input": [],
     "language": "python",
     "metadata": {},
     "outputs": []
    }
   ],
   "metadata": {}
  }
 ]
}