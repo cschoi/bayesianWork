{
 "metadata": {
  "name": "",
  "signature": "sha256:25fe2b18b4cac7ec0a6c1a0f4768288de179b2055458f7271357c16681d1dd0a"
 },
 "nbformat": 3,
 "nbformat_minor": 0,
 "worksheets": [
  {
   "cells": [
    {
     "cell_type": "markdown",
     "metadata": {},
     "source": [
      "[\uc810\ud504 \ud22c \ud30c\uc774\uc36c](https://wikidocs.net/book/1)\n",
      "\n",
      "[\ud30c\uc774\uc36c \ubc30\uc6b0\ub294 \ucd5c\uace0\uc758 \ubc29\ubc95](http://nolboo.github.io/blog/2014/08/10/the-best-way-to-\n",
      "learn-python/)\n",
      "\n",
      "[Python Tips, Tricks, and Hacks](http://www.siafoo.net/article/52)\n",
      "\n",
      "[python | learn x in y minutes](http://learnxinyminutes.com/docs/ko-kr/python-kr/) "
     ]
    },
    {
     "cell_type": "markdown",
     "metadata": {},
     "source": [
      "\uc774 \uc790\ub8cc\ub294 \ud504\ub85c\uadf8\ub798\ubc0d\uc744 \ucc98\uc74c \uc811\ud558\ub294 \ucd08\ubcf4\uc790\ub97c \uc704\ud574\uc11c \ub9e4\uc6b0 \uc9e7\uace0 \uac04\ub2e8\ud558\uac8c \ud30c\uc774\uc36c\uc744 \uc18c\uac1c\ud569\ub2c8\ub2e4.\n",
      "\n",
      "\ubaa9\uc801\uc740 \ubca0\uc774\uc9c0\uc548 \uc2a4\ud130\ub514\ub97c \uc704\ud574 \ucd5c\uc18c\ud55c\uc758 \ud30c\uc774\uc36c \uc0ac\uc6a9\ubc95\uc5d0 \ub300\ud55c \uc124\uba85\uc774\uc5ec\uc11c,\n",
      "\n",
      "\uc544\uc8fc '\uac1c\uad04\uc801'\uc774\uace0 '\ube60\ub974\uac8c' \uc124\uba85\ud558\uae30 \ub54c\ubb38\uc5d0, \ubd80\uc871\ud55c \uc810\uc774 \ub9ce\uc744 \uac83\uc785\ub2c8\ub2e4.\n",
      "\n",
      "\uaf2d \uc704\uc758 \ucd94\ucc9c \uc0ac\uc774\ud2b8\ub4f1\uc744 \ucc38\uace0\ud558\uc5ec \uc8fc\uc2dc\uae30 \ubc14\ub78d\ub2c8\ub2e4.\n",
      "\n",
      "---\n",
      "\n",
      "\ub2e4\ub978 \uc5b8\uc5b4\uc5d0 \uc775\uc219\ud558\ub2e4\uba74 \ub9e4\uc6b0 \uc9e7\uac8c \ubb38\ubc95\ub9cc \ubcfc \uc218 \uc788\ub294 \"learn x in y minutes\" \uc0ac\uc774\ud2b8\ub97c \ucd94\ucc9c\n",
      "\n",
      "\uc880 \ub354 \uc124\uba85\uc774 \uc788\ub294 \ucd08\ubcf4\uc790 \uac00\uc774\ub4dc\ub294 \"\uc810\ud504 \ud22c \ud30c\uc774\uc36c\"\uc744 \ucd94\ucc9c\n",
      "\n",
      "\uadf8 \uc678\uc5d0 \uad6c\uae00\uc5d0\uc11c \ud30c\uc774\uc36c \ud29c\ud1a0\ub9ac\uc5bc \uac80\uc0c9\uc744 \ud558\uba74, \ub9ce\uc740 \uc0ac\uc774\ud2b8\uac00 \uc788\uc2b5\ub2c8\ub2e4.\n",
      "\n",
      "---"
     ]
    },
    {
     "cell_type": "markdown",
     "metadata": {},
     "source": [
      "<h3> \ubcc0\uc218 </h3>\n",
      "\n",
      "\ubcc0\uc218\ub294 \uac12\uc744 \ub2f4\ub294 '\uc6a9\uae30'\uc640 \ube44\uc2b7\ud558\ub2e4.\n",
      "\n",
      "**\uc544\ub798\ucc98\ub7fc '\uc6a9\uae30'\uc5d0 \uac12 \ud558\ub098\ub97c \ud560\ub2f9\ud560 \uc218\ub3c4 \uc788\ub2e4.**"
     ]
    },
    {
     "cell_type": "code",
     "collapsed": false,
     "input": [
      "# store number\n",
      "a = 1\n",
      "# take out \n",
      "a"
     ],
     "language": "python",
     "metadata": {},
     "outputs": [
      {
       "metadata": {},
       "output_type": "pyout",
       "prompt_number": 1,
       "text": [
        "1"
       ]
      }
     ],
     "prompt_number": 1
    },
    {
     "cell_type": "code",
     "collapsed": false,
     "input": [
      "# store string\n",
      "b = \"python is great\"\n",
      "# take out\n",
      "b"
     ],
     "language": "python",
     "metadata": {},
     "outputs": [
      {
       "metadata": {},
       "output_type": "pyout",
       "prompt_number": 2,
       "text": [
        "'python is great'"
       ]
      }
     ],
     "prompt_number": 2
    },
    {
     "cell_type": "markdown",
     "metadata": {},
     "source": [
      "**'\uc6a9\uae30'\uc5d0 \uc5ec\ub7ec\uac1c\uc758 \uac12\uc744 \ud560\ub2f9\ud560\uc218\ub3c4 \uc788\ub2e4.**\n",
      "\n",
      "\uc5ec\ub7ec\uac1c\uac00 \ub098\uc5f4\ub418\uba74 '\ud06c\uac8c \uac1c\ub150\uc801\uc73c\ub85c \ub9ac\uc2a4\ud2b8'\ub77c\uace0 \ud560 \uc218 \uc788\uc73c\ub098 \uc138\ubd80\uc801\uc73c\ub85c \uc815\ud655\ud55c \uba85\uce6d\uc774 \uc788\ub2e4.\n",
      "\n",
      "\ub300\uad04\ud638 [ ] \ub85c \ub9cc\ub4e4\uba74 '\ub9ac\uc2a4\ud2b8'\ub77c\uace0 \ud558\uace0,\n",
      "\n",
      "\uc18c\uad04\ud638 ( ) \ub85c \ub9cc\ub4e4\uba74 '\ud29c\ud50c'\uc774\ub77c\uace0 \ud55c\ub2e4."
     ]
    },
    {
     "cell_type": "code",
     "collapsed": false,
     "input": [
      "lst = [1, 2, 3, 4, 5]\n",
      "lst\n",
      "#=> [1, 2, 3, 4, 5]\n",
      "\n",
      "# \ucc3e\uc744\ub54c\ub294 \uc778\ub371\uc2a4\ub77c\ub294 \uc22b\uc790\ub97c \uc774\uc6a9\ud574 \ucc3e\ub294\ub370, \n",
      "# \uc778\ub371\uc2a4\ub294 0 \ubd80\ud130 \uc2dc\uc791\ud55c\ub2e4.\n",
      "lst[0]\n",
      "#=> 1\n",
      "lst[1]\n",
      "#=> 2\n",
      "\n",
      "# \uccab\ubc88\uc7ac \uc694\uc18c\uc758 \uac12\uc744 100\uc73c\ub85c \ubcc0\uacbd\n",
      "lst[0] = 100\n",
      "lst\n",
      "#=> [100, 2, 3, 4, 5]\n",
      "\n",
      "# \ub9ac\uc2a4\ud2b8 \ud569\uce58\uae30\n",
      "[1, 2, 3] + [4, 5, 6]\n",
      "#=> [1, 2, 3, 4, 5, 6]\n",
      "\n",
      "lst.append(6)\n",
      "lst\n",
      "#=> [100, 2, 3, 4, 5, 6]\n",
      "\n",
      "lst.append(7)\n",
      "lst\n",
      "#=> [100, 2, 3, 4, 5, 6, 7]\n",
      "\n",
      "# \uc5ec\ub7ec\uac1c \uc6d0\uc18c \uac00\uc838\uc624\uae30 [\uc2dc\uc791: \ub05d: \uac04\uaca9] \n",
      "# \uc8fc\uc758\ud560 \uac83\uc740 \uc2dc\uc791\uc740 '\ud3ec\ud568', \ub05d\uc740 '\ubd88\ud3ec\ud568' \uc778\ub371\uc2a4\uc774\ub2e4.\n",
      "lst[:]\n",
      "#=> [100, 2, 3, 4, 5, 6, 7]\n",
      "\n",
      "lst[:3]\n",
      "#=> [100, 2, 3]\n",
      "\n",
      "lst[1:6]\n",
      "#=> [2, 3, 4, 5, 6]\n",
      "\n",
      "lst[1:6:2]\n",
      "#=> [2, 4, 6]\n"
     ],
     "language": "python",
     "metadata": {},
     "outputs": [
      {
       "metadata": {},
       "output_type": "pyout",
       "prompt_number": 3,
       "text": [
        "[2, 4, 6]"
       ]
      }
     ],
     "prompt_number": 3
    },
    {
     "cell_type": "code",
     "collapsed": false,
     "input": [
      "tup = (1, 2, 3, 4, 5)\n",
      "tup\n",
      "#=> (1, 2, 3, 4, 5)\n",
      "\n",
      "# \ud29c\ud50c\uc740 \ub9ac\uc2a4\ud2b8\uc640 \uc720\uc0ac\ud558\ub098, \n",
      "# \uac12\uc744 \ubcc0\uacbd\ud560 \uc218 \uc5c6\ub294 '\uc0c1\uc218' \ucc98\ub7fc \ucde8\uae09\ub41c\ub2e4\ub294 \uc810\uc774 \ub2e4\ub974\ub2e4.\n",
      "tup[0] = 100"
     ],
     "language": "python",
     "metadata": {},
     "outputs": [
      {
       "ename": "TypeError",
       "evalue": "'tuple' object does not support item assignment",
       "output_type": "pyerr",
       "traceback": [
        "\u001b[1;31m---------------------------------------------------------------------------\u001b[0m\n\u001b[1;31mTypeError\u001b[0m                                 Traceback (most recent call last)",
        "\u001b[1;32m<ipython-input-4-8d1a363be0a4>\u001b[0m in \u001b[0;36m<module>\u001b[1;34m()\u001b[0m\n\u001b[0;32m      5\u001b[0m \u001b[1;31m# \ud29c\ud50c\uc740 \ub9ac\uc2a4\ud2b8\uc640 \uc720\uc0ac\ud558\ub098,\u001b[0m\u001b[1;33m\u001b[0m\u001b[1;33m\u001b[0m\u001b[0m\n\u001b[0;32m      6\u001b[0m \u001b[1;31m# \uac12\uc744 \ubcc0\uacbd\ud560 \uc218 \uc5c6\ub294 '\uc0c1\uc218' \ucc98\ub7fc \ucde8\uae09\ub41c\ub2e4\ub294 \uc810\uc774 \ub2e4\ub974\ub2e4.\u001b[0m\u001b[1;33m\u001b[0m\u001b[1;33m\u001b[0m\u001b[0m\n\u001b[1;32m----> 7\u001b[1;33m \u001b[0mtup\u001b[0m\u001b[1;33m[\u001b[0m\u001b[1;36m0\u001b[0m\u001b[1;33m]\u001b[0m \u001b[1;33m=\u001b[0m \u001b[1;36m100\u001b[0m\u001b[1;33m\u001b[0m\u001b[0m\n\u001b[0m",
        "\u001b[1;31mTypeError\u001b[0m: 'tuple' object does not support item assignment"
       ]
      }
     ],
     "prompt_number": 4
    },
    {
     "cell_type": "markdown",
     "metadata": {},
     "source": [
      "---\n",
      "\uc5ec\ub7ec \uac12\uc744 \ub098\uc5f4\ud574\uc11c \ub123\ub294 \uac83 \ub9d0\uace0, \n",
      "\n",
      "**\uc880 \ub354 \uae30\uc5b5\ud558\uae30 \uc26c\uc6b4 \ud0a4-\uac12 \ud615\ud0dc\ub85c \uc800\uc7a5\ud560 \uc218\ub3c4 \uc788\ub2e4**\n",
      "\n",
      "\uc774\ub7f0 \ud615\ud0dc\uc758 \uc6a9\uae30\ub97c '\ub515\uc154\ub108\ub9ac' (=\uc0ac\uc804) \ud0c0\uc785\uc774\ub77c\uace0 \ud55c\ub2e4.\n",
      "\n",
      "\ub9cc\ub4dc\ub294 \ubc29\ubc95\uc740 {} \ub85c \ub9cc\ub4e4 \uc218 \uc788\ub2e4."
     ]
    },
    {
     "cell_type": "code",
     "collapsed": false,
     "input": [
      "dic = {\"one\": 1, \"two\": 2, \"three\": 3}\n",
      "dic\n",
      "#=> {'three': 3, 'two': 2, 'one': 1}\n",
      "\n",
      "dic[\"two\"]\n",
      "#=> 2"
     ],
     "language": "python",
     "metadata": {},
     "outputs": [
      {
       "metadata": {},
       "output_type": "pyout",
       "prompt_number": 5,
       "text": [
        "2"
       ]
      }
     ],
     "prompt_number": 5
    },
    {
     "cell_type": "markdown",
     "metadata": {},
     "source": [
      "**\uc774\ubcf4\ub2e4 \ub354 \ud06c\uace0 \ubcf5\uc7a1\ud55c '\uc6a9\uae30'\ub85c\uc368 '\ud074\ub798\uc2a4' \ub77c\ub294 \uac83\uc774 \uc788\ub2e4.**\n",
      "\n",
      "\uadf8\ub7f0\ub370, \ud074\ub798\uc2a4\ub97c \uc18c\uac1c\ud558\uae30 \uc804\uc5d0 **\ud568\uc218**\uc5d0 \ub300\ud574\uc11c \uba3c\uc800 \uc54c\uc544\ubcf4\uc790.\n",
      "\n",
      "**\ubcc0\uc218** \uac00 \uc5b4\ub5a4 \uac12\uc744 \uc9c0\uce6d\ud558\uae30 \uc704\ud55c \uac83\uc774\ub77c\uba74, \n",
      "\n",
      "**\ud568\uc218** \ub294 \uc5b4\ub5a4 \ud589\ub3d9\uc744 \uc9c0\uce6d\ud558\uae30 \uc704\ud55c \uac83\uc785\ub2c8\ub2e4."
     ]
    },
    {
     "cell_type": "code",
     "collapsed": false,
     "input": [
      "def add(a, b):\n",
      "    return a + b\n",
      "\n",
      "add(1, 2)\n",
      "#=> 3"
     ],
     "language": "python",
     "metadata": {},
     "outputs": [
      {
       "metadata": {},
       "output_type": "pyout",
       "prompt_number": 6,
       "text": [
        "3"
       ]
      }
     ],
     "prompt_number": 6
    },
    {
     "cell_type": "markdown",
     "metadata": {},
     "source": [
      "\uc704\uc5d0\uc11c \ucc98\ub7fc, **\ud568\uc218**\ub294 \ubcc0\uc218\ub098 \uac12\uc744 \uac00\uc9c0\uace0 '\ud2b9\uc815\ud55c \ubc29\ubc95\uc73c\ub85c \ucc98\ub9ac\ud558\ub294' \uc77c\uc885\uc758 **'\ud589\ub3d9'** \uc774\ub77c\uace0 \ubcfc \uc218 \uc788\ub2e4.\n",
      "\n",
      "def \ub77c\ub294 \uba85\ub839\uc5b4\ub85c \uc2dc\uc791\ud558\uba70, \uc774\uc5b4\uc11c '\ud568\uc218\uba85' '\uc785\ub825\uac12' \uc774 \uc628\ub2e4. \n",
      "\n",
      "\uadf8\ub9ac\uace0 \uc6d0\ud558\ub294 \ub3d9\uc791 \uc774\ud6c4 \ubc18\ud658\ud558\ub294 '\ucd9c\ub825\uac12'\uc740 'return' \uc744 \ud1b5\ud574 \uc801\uc73c\uba74 \ub41c\ub2e4.\n",
      "\n",
      "return \uc744 \uc801\uc9c0 \uc54a\uc73c\uba74, \uae30\ubcf8\uc801\uc73c\ub85c '\ube48\uac12' \uc774\ub77c\ub294 \uc758\ubbf8\uc758 None \uc774\ub77c\ub294 \uac12\uc774 \ubc18\ud658\ub41c\ub2e4."
     ]
    },
    {
     "cell_type": "markdown",
     "metadata": {},
     "source": [
      "--- \n",
      "\n",
      "\ub2e4\uc2dc **\ud074\ub798\uc2a4**\ub85c \ub3cc\uc544\uc624\uba74, \n",
      "\n",
      "\ud074\ub798\uc2a4\ub294 \uac12\uc744 \ub098\ud0c0\ub0b4\ub294 **\ubcc0\uc218**\uc640 \ud589\ub3d9\uc744 \ub098\ud0c0\ub0b4\ub294 **\ud568\uc218**\ub97c \ud569\uccd0\ub193\uc740 \uac83\uc774\ub77c\uace0 \uc0dd\uac01\ud558\uba74 \uc27d\uc2b5\ub2c8\ub2e4.\n",
      "\n",
      "\ub2e8, \ud074\ub798\uc2a4 \ub0b4\ubd80\uc5d0 \uc788\ub294 \ud568\uc218\ub97c **\uba54\uc11c\ub4dc** \ub77c\uace0 \ud558\uba70, \ud568\uc218\uc640 \uc57d\uac04 \ub2e4\ub985\ub2c8\ub2e4.\n",
      "\n",
      "\ud074\ub798\uc2a4\ub294 \uc774\ucc98\ub7fc \ubcf5\uc7a1\ud55c \ub9cc\ud07c, \ubc18\ub4dc\uc2dc **\uc124\uacc4(\ub514\uc790\uc778)**\uc744 \ud55c \ud6c4\uc5d0\uc57c \uc0ac\uc6a9\ud560 \uc218 \uc788\uc2b5\ub2c8\ub2e4.\n"
     ]
    },
    {
     "cell_type": "code",
     "collapsed": false,
     "input": [
      "# \uc124\uacc4\ud558\uae30\n",
      "# \ud2b9\uc774\ud55c \uc810\uc740 \ud074\ub798\uc2a4 \ub0b4\ubd80\uc758 \ubcc0\uc218\ub098, \uba54\uc11c\ub4dc\ub97c \uc0ac\uc6a9\ud560\ub54c\ub294 self \ub97c \ubd99\uc5ec\uc11c \uc0ac\uc6a9\ud55c\ub2e4\ub294 \uc810. \n",
      "class Simple():\n",
      "    a = 0\n",
      "    \n",
      "    def set_a(self, a):\n",
      "        self.a = a\n",
      "    \n",
      "    def add_to_a(self, n):\n",
      "        self.a += n  # self.a = self.a + n \uc758 \ucd95\uc57d\ud615\n",
      "    \n",
      "    def get_a(self):\n",
      "        return self.a\n",
      "    \n",
      "# \uc6a9\uae30 \uc0dd\uc131\ud558\uae30 (\ud754\ud788 \uc0dd\uc131\ub41c \uac83\uc744 \uac1d\uccb4\ub77c\uace0 \ud55c\ub2e4)\n",
      "sim = Simple()\n",
      "\n",
      "sim.set_a(100)\n",
      "sim.add_to_a(5)\n",
      "sim.get_a()\n",
      "#=> 105\n",
      "sim.a\n",
      "#=> 105\n",
      "\n",
      "# \ud074\ub798\uc2a4 \uc124\uacc4\ud560 \ub54c, __init__ \uc774\ub77c\ub294 \uba54\uc11c\ub4dc\ub97c \uc0ac\uc6a9\ud558\uba74, \n",
      "# \uc0dd\uc131\uacfc \ub3d9\uc2dc\uc5d0 \uac12\uc744 \ud560\ub2f9\ud560 \uc218\ub3c4 \uc788\ub2e4.\n",
      "\n",
      "class Foo():\n",
      "    a = 0\n",
      "    def __init__(self, a):\n",
      "        self.a = a\n",
      "        \n",
      "foo = Foo(100)\n",
      "foo.a\n",
      "#=> 100"
     ],
     "language": "python",
     "metadata": {},
     "outputs": [
      {
       "metadata": {},
       "output_type": "pyout",
       "prompt_number": 7,
       "text": [
        "100"
       ]
      }
     ],
     "prompt_number": 7
    },
    {
     "cell_type": "markdown",
     "metadata": {},
     "source": [
      "---\n",
      "\n",
      "\ubaa8\ub4c8 \uc784\ud3ec\ud2b8 \ud558\uae30 \n",
      "\n",
      "\uc55e\uc5d0\uc11c \ub098\uc628 **\ubcc0\uc218**, **\ud568\uc218**, **\ud074\ub798\uc2a4** \ub97c \ub2f4\uc744 \uc218 \uc788\ub294 \ub354 \ud070 \ud615\ud0dc\uc758 \uc6a9\uae30\uac00 **\ubaa8\ub4c8** \uc774\ub2e4.\n",
      "\n",
      "import \ub97c \ud1b5\ud574\uc11c \uc774\ubbf8 \ub9cc\ub4e4\uc5b4\uc9c4 \ucf54\ub4dc\ub97c \uc0ac\uc6a9\ud560 \uc218 \uc788\ub2e4."
     ]
    },
    {
     "cell_type": "code",
     "collapsed": false,
     "input": [
      "import math\n",
      "\n",
      "math.ceil(1.5)"
     ],
     "language": "python",
     "metadata": {},
     "outputs": [
      {
       "metadata": {},
       "output_type": "pyout",
       "prompt_number": 8,
       "text": [
        "2.0"
       ]
      }
     ],
     "prompt_number": 8
    },
    {
     "cell_type": "code",
     "collapsed": false,
     "input": [
      "math.pi"
     ],
     "language": "python",
     "metadata": {},
     "outputs": [
      {
       "metadata": {},
       "output_type": "pyout",
       "prompt_number": 9,
       "text": [
        "3.141592653589793"
       ]
      }
     ],
     "prompt_number": 9
    },
    {
     "cell_type": "markdown",
     "metadata": {},
     "source": [
      "---\n",
      "\n",
      "\uc9c0\uae08\uae4c\uc9c0 \uac12\uc744 \ub2f4\ub294 '\uc6a9\uae30' \ub77c\ub294 \uac1c\ub150\uc73c\ub85c \ubcc0\uc218, \ub9ac\uc2a4\ud2b8, \ub515\uc154\ub108\ub9ac(\uc0ac\uc804), \ud074\ub798\uc2a4\uc5d0 \ub300\ud574 \uac04\ub7b5\uc774 \uc124\uba85\ud558\uc600\uc2b5\ub2c8\ub2e4.\n",
      "\n",
      "\uc774\uc81c, '\ud589\ub3d9'\uc5d0 \uad00\ub828\ub41c \ud568\uc218\uc640 \uc81c\uc5b4\ud750\ub984\uc5d0 \ub300\ud574 \uc18c\uac1c\ud558\uaca0\uc2b5\ub2c8\ub2e4.\n",
      "\n",
      "---"
     ]
    },
    {
     "cell_type": "code",
     "collapsed": false,
     "input": [
      "# \ub3c4\uc6c0 \uc5f0\uc0b0\uc790 %, \ub098\ub208 \ub098\uba38\uc9c0\ub97c \ubc18\ud658\ud55c\ub2e4.\n",
      "10 % 2\n",
      "#=> 0\n",
      "7 % 2\n",
      "#=> 1\n",
      "\n",
      "# if ~ elif ~ else\n",
      "\n",
      "def is_odd(n):\n",
      "    if n % 2 == 0:\n",
      "        return False\n",
      "    else:\n",
      "        return True\n",
      "    \n",
      "is_odd(10)\n",
      "#=> False\n",
      "is_odd(7)\n",
      "#=> True"
     ],
     "language": "python",
     "metadata": {},
     "outputs": [
      {
       "metadata": {},
       "output_type": "pyout",
       "prompt_number": 10,
       "text": [
        "True"
       ]
      }
     ],
     "prompt_number": 10
    },
    {
     "cell_type": "code",
     "collapsed": false,
     "input": [
      "# for ~ in\n",
      "\n",
      "lst = range(5)\n",
      "lst\n",
      "#=> [0, 1, 2, 3, 4]\n",
      "\n",
      "for i in lst:\n",
      "    print i\n",
      "\n",
      "# 0\n",
      "# 1\n",
      "# 2\n",
      "# 3\n",
      "# 4\n",
      "\n",
      "dic = {\"one\": 1, \"two\": 2, \"three\": 3}\n",
      "\n",
      "# \ub515\uc154\ub108\ub9ac\ub294 \uc21c\uc11c\ub97c \ubcf4\uc7a5\ud558\uc9c0 \uc54a\ub294\ub2e4.\n",
      "for k, v in dic.iteritems():\n",
      "    print k, v\n",
      "    \n",
      "# three 3\n",
      "# two 2\n",
      "# one 1\n",
      "\n",
      "# break \ub97c \uc0ac\uc6a9\ud558\uba74 \uc911\uac04\uc5d0 \uba48\ucd9c \uc218 \uc788\ub2e4. \n",
      "for i in lst:\n",
      "    if i == 3:\n",
      "        break\n",
      "    else:\n",
      "        print i\n",
      "# 0\n",
      "# 1\n",
      "# 2"
     ],
     "language": "python",
     "metadata": {},
     "outputs": [
      {
       "output_type": "stream",
       "stream": "stdout",
       "text": [
        "0\n",
        "1\n",
        "2\n",
        "3\n",
        "4\n",
        "three 3\n",
        "two 2\n",
        "one 1\n",
        "0\n",
        "1\n",
        "2\n"
       ]
      }
     ],
     "prompt_number": 11
    },
    {
     "cell_type": "code",
     "collapsed": false,
     "input": [
      "# while : \uc870\uac74\uc774 \ucc38\uc774\uba74 \uacc4\uc18d \ub3c8\ub2e4.\n",
      "\n",
      "x = 0\n",
      "while x < 4:\n",
      "    print x\n",
      "    x += 1  # x = x + 1\uc758 \ucd95\uc57d\ud615\n",
      "    \n",
      "# 0\n",
      "# 1\n",
      "# 2\n",
      "# 3"
     ],
     "language": "python",
     "metadata": {},
     "outputs": [
      {
       "output_type": "stream",
       "stream": "stdout",
       "text": [
        "0\n",
        "1\n",
        "2\n",
        "3\n"
       ]
      }
     ],
     "prompt_number": 12
    },
    {
     "cell_type": "code",
     "collapsed": false,
     "input": [],
     "language": "python",
     "metadata": {},
     "outputs": [],
     "prompt_number": 12
    }
   ],
   "metadata": {}
  }
 ]
}