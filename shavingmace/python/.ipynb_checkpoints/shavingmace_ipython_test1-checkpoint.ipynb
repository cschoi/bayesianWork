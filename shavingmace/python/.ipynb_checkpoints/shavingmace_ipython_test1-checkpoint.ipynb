{
 "metadata": {
  "name": "",
  "signature": "sha256:191cc7e9f8ad3138d1c9ea89b91546cf679dd48c045c57ce123c331d7ea9f070"
 },
 "nbformat": 3,
 "nbformat_minor": 0,
 "worksheets": [
  {
   "cells": [
    {
     "cell_type": "code",
     "collapsed": false,
     "input": [
      "print(\"Hello, world!)"
     ],
     "language": "python",
     "metadata": {},
     "outputs": []
    }
   ],
   "metadata": {}
  }
 ]
}